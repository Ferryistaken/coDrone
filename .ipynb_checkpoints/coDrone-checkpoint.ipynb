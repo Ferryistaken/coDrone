{
 "cells": [
  {
   "cell_type": "code",
   "execution_count": 1,
   "metadata": {
    "scrolled": true
   },
   "outputs": [
    {
     "name": "stdout",
     "output_type": "stream",
     "text": [
      "Drone object created\n",
      ">> Port : [/dev/ttyUSB0]\n",
      ">> Drone : [7205]\n",
      ">> Battery : [43]\n",
      "Drone Paired\n"
     ]
    }
   ],
   "source": [
    "import CoDrone\n",
    "from CoDrone import Direction\n",
    "drone = CoDrone.CoDrone()\n",
    "print(\"Drone object created\")\n",
    "drone.pair(7205)\n",
    "print(\"Drone Paired\")\n"
   ]
  },
  {
   "cell_type": "code",
   "execution_count": null,
   "metadata": {},
   "outputs": [],
   "source": [
    "drone.calibrate()\n",
    "print(\"Drone calibrated\")"
   ]
  },
  {
   "cell_type": "code",
   "execution_count": null,
   "metadata": {},
   "outputs": [],
   "source": [
    "drone.takeoff()\n",
    "print(\"Took off\")\n",
    "# fly between 500mm and 1000mm\n",
    "for i in range(200):\n",
    "    height = drone.get_height()\n",
    "    if height > 1500:\n",
    "        drone.go(Direction.DOWN)\n",
    "    elif height < 500:\n",
    "        drone.go(Direction.UP)\n",
    "\n",
    "    \n",
    "drone.go_to_height(500)\n",
    "print(\"got to height 50cm\")\n",
    "drone.go_to_height(1500)\n",
    "print(\"got to height 150cm\")\n",
    "drone.go_to_height(500)\n",
    "print(\"got to height 50cm\")\n",
    "drone.go_to_height(100)\n",
    "print(\"got to height 10cm\")\n",
    "drone.land()"
   ]
  },
  {
   "cell_type": "code",
   "execution_count": null,
   "metadata": {},
   "outputs": [],
   "source": [
    "drone.land()"
   ]
  },
  {
   "cell_type": "code",
   "execution_count": null,
   "metadata": {},
   "outputs": [],
   "source": [
    "drone.close()"
   ]
  },
  {
   "cell_type": "code",
   "execution_count": null,
   "metadata": {},
   "outputs": [],
   "source": []
  }
 ],
 "metadata": {
  "kernelspec": {
   "display_name": "Python 3",
   "language": "python",
   "name": "python3"
  },
  "language_info": {
   "codemirror_mode": {
    "name": "ipython",
    "version": 3
   },
   "file_extension": ".py",
   "mimetype": "text/x-python",
   "name": "python",
   "nbconvert_exporter": "python",
   "pygments_lexer": "ipython3",
   "version": "3.6.10"
  }
 },
 "nbformat": 4,
 "nbformat_minor": 4
}
